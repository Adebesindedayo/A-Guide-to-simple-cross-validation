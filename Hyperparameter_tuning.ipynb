{
  "nbformat": 4,
  "nbformat_minor": 0,
  "metadata": {
    "colab": {
      "name": "Hyperparameter tuning.ipynb",
      "provenance": [],
      "authorship_tag": "ABX9TyPyuKN/zergLjyo+4U3diSH",
      "include_colab_link": true
    },
    "kernelspec": {
      "name": "python3",
      "display_name": "Python 3"
    }
  },
  "cells": [
    {
      "cell_type": "markdown",
      "metadata": {
        "id": "view-in-github",
        "colab_type": "text"
      },
      "source": [
        "<a href=\"https://colab.research.google.com/github/Paulooh007/A-Guide-to-simple-cross-validation/blob/master/Hyperparameter_tuning.ipynb\" target=\"_parent\"><img src=\"https://colab.research.google.com/assets/colab-badge.svg\" alt=\"Open In Colab\"/></a>"
      ]
    },
    {
      "cell_type": "code",
      "metadata": {
        "id": "UNrBRsMCi2Ff",
        "colab_type": "code",
        "colab": {}
      },
      "source": [
        "import pandas as pd\n",
        "import numpy as np"
      ],
      "execution_count": 1,
      "outputs": []
    },
    {
      "cell_type": "code",
      "metadata": {
        "id": "hYjKhI65b9H7",
        "colab_type": "code",
        "colab": {}
      },
      "source": [
        "from sklearn import ensemble\n",
        "from sklearn import metrics\n",
        "from sklearn import model_selection\n",
        "from functools import partial\n",
        "\n",
        "from sklearn.datasets import load_breast_cancer"
      ],
      "execution_count": 2,
      "outputs": []
    },
    {
      "cell_type": "code",
      "metadata": {
        "id": "XIgktrdg5RsX",
        "colab_type": "code",
        "colab": {}
      },
      "source": [
        "X,  y = load_breast_cancer(return_X_y=True)"
      ],
      "execution_count": 3,
      "outputs": []
    },
    {
      "cell_type": "code",
      "metadata": {
        "id": "h7vG8NG8gMck",
        "colab_type": "code",
        "colab": {}
      },
      "source": [
        "classifier = ensemble.RandomForestClassifier()"
      ],
      "execution_count": 4,
      "outputs": []
    },
    {
      "cell_type": "markdown",
      "metadata": {
        "id": "lRYAsp_uVEgO",
        "colab_type": "text"
      },
      "source": [
        "For detailed explanation on cross validation:  https://towardsdatascience.com/train-test-split-and-cross-validation-in-python-80b61beca4b6"
      ]
    },
    {
      "cell_type": "markdown",
      "metadata": {
        "id": "qtUCWR0E5bLV",
        "colab_type": "text"
      },
      "source": [
        "### GridSearchCV\n",
        "\n",
        "Grid search is the process of performing hyper parameter tuning in order to determine the optimal values for a given model. This is significant as the performance of the entire model is based on the hyper parameter values specified.\n",
        "\n",
        "A cross validation process is performed in order to determine the hyper parameter value set which provides the best accuracy levels.\n",
        "\n",
        "How to use gridsearchCV\n",
        "- Define a dictionary containing the set of parameter space\n",
        "- Pass dictionary into gridsearch algorithm\n",
        "- Fit feature vector (X) and target (y)\n",
        "- Print out result of best parameter"
      ]
    },
    {
      "cell_type": "code",
      "metadata": {
        "id": "ipSUdfbL7097",
        "colab_type": "code",
        "colab": {}
      },
      "source": [
        "# param_grid  = {\n",
        "#     'n_estimators': [100, 200, 300],\n",
        "#     'max_depth': [1,3,4],\n",
        "#     'criterion': ['gini', 'entropy']\n",
        "# }\n",
        "\n",
        "param_grid  = {\n",
        "    'n_estimators': [100, 200],\n",
        "    'max_depth': [1,3]\n",
        "#     'criterion': ['gini', 'entropy']\n",
        " }"
      ],
      "execution_count": 5,
      "outputs": []
    },
    {
      "cell_type": "code",
      "metadata": {
        "id": "QlQ5FuDV9pkE",
        "colab_type": "code",
        "colab": {}
      },
      "source": [
        "model = model_selection.GridSearchCV(\n",
        "    estimator = classifier,\n",
        "    param_grid = param_grid,\n",
        "    scoring= 'accuracy',\n",
        "    verbose= 10\n",
        ")"
      ],
      "execution_count": 6,
      "outputs": []
    },
    {
      "cell_type": "code",
      "metadata": {
        "id": "gDhuS5H-954I",
        "colab_type": "code",
        "colab": {
          "base_uri": "https://localhost:8080/",
          "height": 1000
        },
        "outputId": "9d61bf83-8e7a-4bba-98eb-1ca017884ed2"
      },
      "source": [
        "model.fit(X, y)"
      ],
      "execution_count": 7,
      "outputs": [
        {
          "output_type": "stream",
          "text": [
            "Fitting 5 folds for each of 4 candidates, totalling 20 fits\n",
            "[CV] max_depth=1, n_estimators=100 ...................................\n",
            "[CV] ....... max_depth=1, n_estimators=100, score=0.877, total=   0.2s\n",
            "[CV] max_depth=1, n_estimators=100 ...................................\n"
          ],
          "name": "stdout"
        },
        {
          "output_type": "stream",
          "text": [
            "[Parallel(n_jobs=1)]: Using backend SequentialBackend with 1 concurrent workers.\n",
            "[Parallel(n_jobs=1)]: Done   1 out of   1 | elapsed:    0.2s remaining:    0.0s\n"
          ],
          "name": "stderr"
        },
        {
          "output_type": "stream",
          "text": [
            "[CV] ....... max_depth=1, n_estimators=100, score=0.912, total=   0.1s\n",
            "[CV] max_depth=1, n_estimators=100 ...................................\n",
            "[CV] ....... max_depth=1, n_estimators=100, score=0.939, total=   0.2s\n",
            "[CV] max_depth=1, n_estimators=100 ...................................\n"
          ],
          "name": "stdout"
        },
        {
          "output_type": "stream",
          "text": [
            "[Parallel(n_jobs=1)]: Done   2 out of   2 | elapsed:    0.3s remaining:    0.0s\n",
            "[Parallel(n_jobs=1)]: Done   3 out of   3 | elapsed:    0.5s remaining:    0.0s\n"
          ],
          "name": "stderr"
        },
        {
          "output_type": "stream",
          "text": [
            "[CV] ....... max_depth=1, n_estimators=100, score=0.939, total=   0.1s\n",
            "[CV] max_depth=1, n_estimators=100 ...................................\n",
            "[CV] ....... max_depth=1, n_estimators=100, score=0.947, total=   0.1s\n",
            "[CV] max_depth=1, n_estimators=200 ...................................\n"
          ],
          "name": "stdout"
        },
        {
          "output_type": "stream",
          "text": [
            "[Parallel(n_jobs=1)]: Done   4 out of   4 | elapsed:    0.6s remaining:    0.0s\n",
            "[Parallel(n_jobs=1)]: Done   5 out of   5 | elapsed:    0.8s remaining:    0.0s\n"
          ],
          "name": "stderr"
        },
        {
          "output_type": "stream",
          "text": [
            "[CV] ....... max_depth=1, n_estimators=200, score=0.868, total=   0.3s\n",
            "[CV] max_depth=1, n_estimators=200 ...................................\n"
          ],
          "name": "stdout"
        },
        {
          "output_type": "stream",
          "text": [
            "[Parallel(n_jobs=1)]: Done   6 out of   6 | elapsed:    1.1s remaining:    0.0s\n"
          ],
          "name": "stderr"
        },
        {
          "output_type": "stream",
          "text": [
            "[CV] ....... max_depth=1, n_estimators=200, score=0.921, total=   0.3s\n",
            "[CV] max_depth=1, n_estimators=200 ...................................\n"
          ],
          "name": "stdout"
        },
        {
          "output_type": "stream",
          "text": [
            "[Parallel(n_jobs=1)]: Done   7 out of   7 | elapsed:    1.4s remaining:    0.0s\n"
          ],
          "name": "stderr"
        },
        {
          "output_type": "stream",
          "text": [
            "[CV] ....... max_depth=1, n_estimators=200, score=0.939, total=   0.3s\n",
            "[CV] max_depth=1, n_estimators=200 ...................................\n"
          ],
          "name": "stdout"
        },
        {
          "output_type": "stream",
          "text": [
            "[Parallel(n_jobs=1)]: Done   8 out of   8 | elapsed:    1.6s remaining:    0.0s\n"
          ],
          "name": "stderr"
        },
        {
          "output_type": "stream",
          "text": [
            "[CV] ....... max_depth=1, n_estimators=200, score=0.956, total=   0.3s\n",
            "[CV] max_depth=1, n_estimators=200 ...................................\n"
          ],
          "name": "stdout"
        },
        {
          "output_type": "stream",
          "text": [
            "[Parallel(n_jobs=1)]: Done   9 out of   9 | elapsed:    2.0s remaining:    0.0s\n"
          ],
          "name": "stderr"
        },
        {
          "output_type": "stream",
          "text": [
            "[CV] ....... max_depth=1, n_estimators=200, score=0.956, total=   0.3s\n",
            "[CV] max_depth=3, n_estimators=100 ...................................\n",
            "[CV] ....... max_depth=3, n_estimators=100, score=0.939, total=   0.2s\n",
            "[CV] max_depth=3, n_estimators=100 ...................................\n",
            "[CV] ....... max_depth=3, n_estimators=100, score=0.930, total=   0.2s\n",
            "[CV] max_depth=3, n_estimators=100 ...................................\n",
            "[CV] ....... max_depth=3, n_estimators=100, score=0.982, total=   0.2s\n",
            "[CV] max_depth=3, n_estimators=100 ...................................\n",
            "[CV] ....... max_depth=3, n_estimators=100, score=0.965, total=   0.2s\n",
            "[CV] max_depth=3, n_estimators=100 ...................................\n",
            "[CV] ....... max_depth=3, n_estimators=100, score=0.965, total=   0.2s\n",
            "[CV] max_depth=3, n_estimators=200 ...................................\n",
            "[CV] ....... max_depth=3, n_estimators=200, score=0.921, total=   0.4s\n",
            "[CV] max_depth=3, n_estimators=200 ...................................\n",
            "[CV] ....... max_depth=3, n_estimators=200, score=0.939, total=   0.3s\n",
            "[CV] max_depth=3, n_estimators=200 ...................................\n",
            "[CV] ....... max_depth=3, n_estimators=200, score=0.982, total=   0.3s\n",
            "[CV] max_depth=3, n_estimators=200 ...................................\n",
            "[CV] ....... max_depth=3, n_estimators=200, score=0.965, total=   0.4s\n",
            "[CV] max_depth=3, n_estimators=200 ...................................\n",
            "[CV] ....... max_depth=3, n_estimators=200, score=0.965, total=   0.4s\n"
          ],
          "name": "stdout"
        },
        {
          "output_type": "stream",
          "text": [
            "[Parallel(n_jobs=1)]: Done  20 out of  20 | elapsed:    4.9s finished\n"
          ],
          "name": "stderr"
        },
        {
          "output_type": "execute_result",
          "data": {
            "text/plain": [
              "GridSearchCV(cv=None, error_score=nan,\n",
              "             estimator=RandomForestClassifier(bootstrap=True, ccp_alpha=0.0,\n",
              "                                              class_weight=None,\n",
              "                                              criterion='gini', max_depth=None,\n",
              "                                              max_features='auto',\n",
              "                                              max_leaf_nodes=None,\n",
              "                                              max_samples=None,\n",
              "                                              min_impurity_decrease=0.0,\n",
              "                                              min_impurity_split=None,\n",
              "                                              min_samples_leaf=1,\n",
              "                                              min_samples_split=2,\n",
              "                                              min_weight_fraction_leaf=0.0,\n",
              "                                              n_estimators=100, n_jobs=None,\n",
              "                                              oob_score=False,\n",
              "                                              random_state=None, verbose=0,\n",
              "                                              warm_start=False),\n",
              "             iid='deprecated', n_jobs=None,\n",
              "             param_grid={'max_depth': [1, 3], 'n_estimators': [100, 200]},\n",
              "             pre_dispatch='2*n_jobs', refit=True, return_train_score=False,\n",
              "             scoring='accuracy', verbose=10)"
            ]
          },
          "metadata": {
            "tags": []
          },
          "execution_count": 7
        }
      ]
    },
    {
      "cell_type": "code",
      "metadata": {
        "id": "m9rC6Z2-98az",
        "colab_type": "code",
        "colab": {
          "base_uri": "https://localhost:8080/",
          "height": 34
        },
        "outputId": "49d80494-9b1b-4211-9a90-c1f972d580f3"
      },
      "source": [
        "print(model.best_score_)\n",
        "best_params = model.best_estimator_.get_params()"
      ],
      "execution_count": 9,
      "outputs": [
        {
          "output_type": "stream",
          "text": [
            "0.956078248719143\n"
          ],
          "name": "stdout"
        }
      ]
    },
    {
      "cell_type": "code",
      "metadata": {
        "id": "sskimNnA-lNU",
        "colab_type": "code",
        "colab": {
          "base_uri": "https://localhost:8080/",
          "height": 34
        },
        "outputId": "6e8e1a3f-988c-49b4-f001-fd9c4a08df92"
      },
      "source": [
        "print('n_estimators: {}, max_depth: {}'.format(best_params['n_estimators'], best_params['max_depth']))"
      ],
      "execution_count": 13,
      "outputs": [
        {
          "output_type": "stream",
          "text": [
            "n_estimators: 100, max_depth: 3\n"
          ],
          "name": "stdout"
        }
      ]
    },
    {
      "cell_type": "markdown",
      "metadata": {
        "id": "QPRc2qtg_pIH",
        "colab_type": "text"
      },
      "source": [
        "### RandomSearchCV\n",
        "Using Scikit-Learn’s RandomizedSearchCV method, we can define a grid of hyperparameter ranges, and randomly sample from the grid, performing K-Fold CV with each combination of values.\n",
        "\n",
        "The most important arguments in RandomizedSearchCV are n_iter, which controls the number of iterations, and cv which is the number of folds to use for cross validation. More iterations will cover a wider search space and more cv folds reduces the chances of overfitting"
      ]
    },
    {
      "cell_type": "code",
      "metadata": {
        "id": "QKvbROxRAu1D",
        "colab_type": "code",
        "colab": {}
      },
      "source": [
        "param_grid  = {\n",
        "    'n_estimators': np.arange(100, 1500, 100),\n",
        "    'max_depth': np.arange(1,20),\n",
        "    'criterion': ['gini', 'entropy']\n",
        " }"
      ],
      "execution_count": 18,
      "outputs": []
    },
    {
      "cell_type": "code",
      "metadata": {
        "id": "d4EzenyGA3Tv",
        "colab_type": "code",
        "colab": {}
      },
      "source": [
        "model = model_selection.RandomizedSearchCV(\n",
        "    estimator = classifier,\n",
        "    param_distributions = param_grid,\n",
        "    n_iter= 5,\n",
        "    scoring = 'accuracy',\n",
        "    verbose= 10,\n",
        "    cv = 5\n",
        ")"
      ],
      "execution_count": 15,
      "outputs": []
    },
    {
      "cell_type": "code",
      "metadata": {
        "id": "V82J_-2hBUa0",
        "colab_type": "code",
        "colab": {
          "base_uri": "https://localhost:8080/",
          "height": 1000
        },
        "outputId": "8b067999-0870-44ea-ac09-ab91e23a1c51"
      },
      "source": [
        "model.fit(X, y)"
      ],
      "execution_count": 16,
      "outputs": [
        {
          "output_type": "stream",
          "text": [
            "Fitting 5 folds for each of 5 candidates, totalling 25 fits\n",
            "[CV] n_estimators=900, max_depth=3, criterion=gini ...................\n"
          ],
          "name": "stdout"
        },
        {
          "output_type": "stream",
          "text": [
            "[Parallel(n_jobs=1)]: Using backend SequentialBackend with 1 concurrent workers.\n"
          ],
          "name": "stderr"
        },
        {
          "output_type": "stream",
          "text": [
            "[CV]  n_estimators=900, max_depth=3, criterion=gini, score=0.921, total=   1.6s\n",
            "[CV] n_estimators=900, max_depth=3, criterion=gini ...................\n"
          ],
          "name": "stdout"
        },
        {
          "output_type": "stream",
          "text": [
            "[Parallel(n_jobs=1)]: Done   1 out of   1 | elapsed:    1.6s remaining:    0.0s\n"
          ],
          "name": "stderr"
        },
        {
          "output_type": "stream",
          "text": [
            "[CV]  n_estimators=900, max_depth=3, criterion=gini, score=0.939, total=   1.6s\n",
            "[CV] n_estimators=900, max_depth=3, criterion=gini ...................\n"
          ],
          "name": "stdout"
        },
        {
          "output_type": "stream",
          "text": [
            "[Parallel(n_jobs=1)]: Done   2 out of   2 | elapsed:    3.1s remaining:    0.0s\n"
          ],
          "name": "stderr"
        },
        {
          "output_type": "stream",
          "text": [
            "[CV]  n_estimators=900, max_depth=3, criterion=gini, score=0.982, total=   1.6s\n",
            "[CV] n_estimators=900, max_depth=3, criterion=gini ...................\n"
          ],
          "name": "stdout"
        },
        {
          "output_type": "stream",
          "text": [
            "[Parallel(n_jobs=1)]: Done   3 out of   3 | elapsed:    4.7s remaining:    0.0s\n"
          ],
          "name": "stderr"
        },
        {
          "output_type": "stream",
          "text": [
            "[CV]  n_estimators=900, max_depth=3, criterion=gini, score=0.956, total=   1.6s\n",
            "[CV] n_estimators=900, max_depth=3, criterion=gini ...................\n"
          ],
          "name": "stdout"
        },
        {
          "output_type": "stream",
          "text": [
            "[Parallel(n_jobs=1)]: Done   4 out of   4 | elapsed:    6.3s remaining:    0.0s\n"
          ],
          "name": "stderr"
        },
        {
          "output_type": "stream",
          "text": [
            "[CV]  n_estimators=900, max_depth=3, criterion=gini, score=0.965, total=   1.5s\n",
            "[CV] n_estimators=500, max_depth=18, criterion=gini ..................\n"
          ],
          "name": "stdout"
        },
        {
          "output_type": "stream",
          "text": [
            "[Parallel(n_jobs=1)]: Done   5 out of   5 | elapsed:    7.8s remaining:    0.0s\n"
          ],
          "name": "stderr"
        },
        {
          "output_type": "stream",
          "text": [
            "[CV]  n_estimators=500, max_depth=18, criterion=gini, score=0.930, total=   1.0s\n",
            "[CV] n_estimators=500, max_depth=18, criterion=gini ..................\n"
          ],
          "name": "stdout"
        },
        {
          "output_type": "stream",
          "text": [
            "[Parallel(n_jobs=1)]: Done   6 out of   6 | elapsed:    8.8s remaining:    0.0s\n"
          ],
          "name": "stderr"
        },
        {
          "output_type": "stream",
          "text": [
            "[CV]  n_estimators=500, max_depth=18, criterion=gini, score=0.947, total=   1.0s\n",
            "[CV] n_estimators=500, max_depth=18, criterion=gini ..................\n"
          ],
          "name": "stdout"
        },
        {
          "output_type": "stream",
          "text": [
            "[Parallel(n_jobs=1)]: Done   7 out of   7 | elapsed:    9.7s remaining:    0.0s\n"
          ],
          "name": "stderr"
        },
        {
          "output_type": "stream",
          "text": [
            "[CV]  n_estimators=500, max_depth=18, criterion=gini, score=0.991, total=   1.0s\n",
            "[CV] n_estimators=500, max_depth=18, criterion=gini ..................\n"
          ],
          "name": "stdout"
        },
        {
          "output_type": "stream",
          "text": [
            "[Parallel(n_jobs=1)]: Done   8 out of   8 | elapsed:   10.7s remaining:    0.0s\n"
          ],
          "name": "stderr"
        },
        {
          "output_type": "stream",
          "text": [
            "[CV]  n_estimators=500, max_depth=18, criterion=gini, score=0.974, total=   1.0s\n",
            "[CV] n_estimators=500, max_depth=18, criterion=gini ..................\n"
          ],
          "name": "stdout"
        },
        {
          "output_type": "stream",
          "text": [
            "[Parallel(n_jobs=1)]: Done   9 out of   9 | elapsed:   11.7s remaining:    0.0s\n"
          ],
          "name": "stderr"
        },
        {
          "output_type": "stream",
          "text": [
            "[CV]  n_estimators=500, max_depth=18, criterion=gini, score=0.973, total=   1.0s\n",
            "[CV] n_estimators=100, max_depth=13, criterion=entropy ...............\n",
            "[CV]  n_estimators=100, max_depth=13, criterion=entropy, score=0.939, total=   0.2s\n",
            "[CV] n_estimators=100, max_depth=13, criterion=entropy ...............\n",
            "[CV]  n_estimators=100, max_depth=13, criterion=entropy, score=0.947, total=   0.2s\n",
            "[CV] n_estimators=100, max_depth=13, criterion=entropy ...............\n",
            "[CV]  n_estimators=100, max_depth=13, criterion=entropy, score=0.991, total=   0.2s\n",
            "[CV] n_estimators=100, max_depth=13, criterion=entropy ...............\n",
            "[CV]  n_estimators=100, max_depth=13, criterion=entropy, score=0.965, total=   0.2s\n",
            "[CV] n_estimators=100, max_depth=13, criterion=entropy ...............\n",
            "[CV]  n_estimators=100, max_depth=13, criterion=entropy, score=0.982, total=   0.2s\n",
            "[CV] n_estimators=700, max_depth=12, criterion=gini ..................\n",
            "[CV]  n_estimators=700, max_depth=12, criterion=gini, score=0.930, total=   1.3s\n",
            "[CV] n_estimators=700, max_depth=12, criterion=gini ..................\n",
            "[CV]  n_estimators=700, max_depth=12, criterion=gini, score=0.947, total=   1.3s\n",
            "[CV] n_estimators=700, max_depth=12, criterion=gini ..................\n",
            "[CV]  n_estimators=700, max_depth=12, criterion=gini, score=0.991, total=   1.4s\n",
            "[CV] n_estimators=700, max_depth=12, criterion=gini ..................\n",
            "[CV]  n_estimators=700, max_depth=12, criterion=gini, score=0.982, total=   1.3s\n",
            "[CV] n_estimators=700, max_depth=12, criterion=gini ..................\n",
            "[CV]  n_estimators=700, max_depth=12, criterion=gini, score=0.973, total=   1.3s\n",
            "[CV] n_estimators=800, max_depth=16, criterion=gini ..................\n",
            "[CV]  n_estimators=800, max_depth=16, criterion=gini, score=0.930, total=   1.5s\n",
            "[CV] n_estimators=800, max_depth=16, criterion=gini ..................\n",
            "[CV]  n_estimators=800, max_depth=16, criterion=gini, score=0.947, total=   1.5s\n",
            "[CV] n_estimators=800, max_depth=16, criterion=gini ..................\n",
            "[CV]  n_estimators=800, max_depth=16, criterion=gini, score=0.991, total=   1.6s\n",
            "[CV] n_estimators=800, max_depth=16, criterion=gini ..................\n",
            "[CV]  n_estimators=800, max_depth=16, criterion=gini, score=0.982, total=   1.6s\n",
            "[CV] n_estimators=800, max_depth=16, criterion=gini ..................\n",
            "[CV]  n_estimators=800, max_depth=16, criterion=gini, score=0.973, total=   1.5s\n"
          ],
          "name": "stdout"
        },
        {
          "output_type": "stream",
          "text": [
            "[Parallel(n_jobs=1)]: Done  25 out of  25 | elapsed:   28.3s finished\n"
          ],
          "name": "stderr"
        },
        {
          "output_type": "execute_result",
          "data": {
            "text/plain": [
              "RandomizedSearchCV(cv=5, error_score=nan,\n",
              "                   estimator=RandomForestClassifier(bootstrap=True,\n",
              "                                                    ccp_alpha=0.0,\n",
              "                                                    class_weight=None,\n",
              "                                                    criterion='gini',\n",
              "                                                    max_depth=None,\n",
              "                                                    max_features='auto',\n",
              "                                                    max_leaf_nodes=None,\n",
              "                                                    max_samples=None,\n",
              "                                                    min_impurity_decrease=0.0,\n",
              "                                                    min_impurity_split=None,\n",
              "                                                    min_samples_leaf=1,\n",
              "                                                    min_samples_split=2,\n",
              "                                                    min_weight_fraction_leaf=0.0,\n",
              "                                                    n_estimators=100,\n",
              "                                                    n_jobs...\n",
              "                   iid='deprecated', n_iter=5, n_jobs=None,\n",
              "                   param_distributions={'criterion': ['gini', 'entropy'],\n",
              "                                        'max_depth': array([ 1,  2,  3,  4,  5,  6,  7,  8,  9, 10, 11, 12, 13, 14, 15, 16, 17,\n",
              "       18, 19]),\n",
              "                                        'n_estimators': array([ 100,  200,  300,  400,  500,  600,  700,  800,  900, 1000, 1100,\n",
              "       1200, 1300, 1400])},\n",
              "                   pre_dispatch='2*n_jobs', random_state=None, refit=True,\n",
              "                   return_train_score=False, scoring='accuracy', verbose=10)"
            ]
          },
          "metadata": {
            "tags": []
          },
          "execution_count": 16
        }
      ]
    },
    {
      "cell_type": "code",
      "metadata": {
        "id": "UmL2am-CB3rq",
        "colab_type": "code",
        "colab": {
          "base_uri": "https://localhost:8080/",
          "height": 51
        },
        "outputId": "05413be9-d911-48ba-8471-91ef6cfa15a1"
      },
      "source": [
        "print(model.best_score_)\n",
        "best_params = model.best_estimator_.get_params()\n",
        "print('n_estimators: {}, max_depth: {}'.format(best_params['n_estimators'], best_params['max_depth']))"
      ],
      "execution_count": 19,
      "outputs": [
        {
          "output_type": "stream",
          "text": [
            "0.9648812296227295\n",
            "n_estimators: 100, max_depth: 13\n"
          ],
          "name": "stdout"
        }
      ]
    },
    {
      "cell_type": "markdown",
      "metadata": {
        "id": "Nz3xZWKVCpaI",
        "colab_type": "text"
      },
      "source": [
        "### Scikit-optimize, Hyeropt and Optuna\n",
        "(all three are very similar in operation, and only slight differences in code)\n",
        "\n",
        "All three are simple and efficient libraries to minimize (very) expensive and noisy black-box functions. It implements several methods for sequential model-based optimization\n",
        "\n",
        "Code Summary\n",
        "\n",
        "- Define the function you want to minimize (in this example we don't want to minimze accuracy so instead we'll minimize ```-1 * accuracy```\n",
        "- Define parameter space\n",
        "- Use a minimization funtion (```gp_minimze```, ```fmin``` ) to find the best parameter that minimizes the the metric"
      ]
    },
    {
      "cell_type": "code",
      "metadata": {
        "id": "nXYIId9QguYi",
        "colab_type": "code",
        "colab": {}
      },
      "source": [
        "from skopt import space\n",
        "from skopt import gp_minimize"
      ],
      "execution_count": 20,
      "outputs": []
    },
    {
      "cell_type": "code",
      "metadata": {
        "id": "s7RUGH3ohlWU",
        "colab_type": "code",
        "colab": {}
      },
      "source": [
        "# The function we want to minimize\n",
        "\n",
        "def optimize(params, param_names, x, y):\n",
        "    params = dict(zip(param_names, params))\n",
        "    model = ensemble.RandomForestClassifier(**params)\n",
        "    kf = model_selection.StratifiedKFold(n_splits= 5)  #5 fold cross validation\n",
        "    accuracies = []\n",
        "    for idx in kf.split(X = x, y = y):\n",
        "        train_idx, test_idx = idx[0], idx[1]\n",
        "        xtrain = x[train_idx]\n",
        "        ytrain = y[train_idx]\n",
        "        \n",
        "        xtest = x[test_idx]\n",
        "        ytest = y[test_idx]\n",
        "        \n",
        "        model.fit(xtrain, ytrain)\n",
        "        preds = model.predict(xtest)\n",
        "        fold_acc = metrics.accuracy_score(ytest, preds)\n",
        "        accuracies.append(fold_acc)\n",
        "        \n",
        "    return -1.0 * np.mean(accuracies)# return -1 * accuracy"
      ],
      "execution_count": 22,
      "outputs": []
    },
    {
      "cell_type": "code",
      "metadata": {
        "id": "zglGAnCvgrFR",
        "colab_type": "code",
        "colab": {}
      },
      "source": [
        "param_space = [\n",
        "    space.Integer(3, 15, name = 'max_depth'), #search for optimal value of max_depth between 3 and 15\n",
        "    space.Integer(100, 600, name= 'n_estimators'), #search for optimal value of n_estimators between 100 and 600\n",
        "    space.Categorical(['gini', 'entropy'], name = 'criterion'),\n",
        "    space.Real(0.01, 1, prior= 'uniform', name =  'max_features')\n",
        "    ]"
      ],
      "execution_count": 23,
      "outputs": []
    },
    {
      "cell_type": "code",
      "metadata": {
        "id": "CSDsHlZuhNMw",
        "colab_type": "code",
        "colab": {}
      },
      "source": [
        "param_names = [\n",
        "               'max_depth',\n",
        "               'n_estimators',\n",
        "               'criterion',\n",
        "               'max_features'\n",
        "]"
      ],
      "execution_count": 24,
      "outputs": []
    },
    {
      "cell_type": "code",
      "metadata": {
        "id": "XV2BWDkeMF9B",
        "colab_type": "code",
        "colab": {}
      },
      "source": [
        "optimization_function = partial(\n",
        "    optimize,\n",
        "    param_names = param_names,\n",
        "    x = X,\n",
        "    y=y)"
      ],
      "execution_count": 30,
      "outputs": []
    },
    {
      "cell_type": "code",
      "metadata": {
        "id": "fa6EGREVcJmY",
        "colab_type": "code",
        "colab": {
          "base_uri": "https://localhost:8080/",
          "height": 1000
        },
        "outputId": "a64b04bf-a73e-4196-c664-531fd37a6dc7"
      },
      "source": [
        "result = gp_minimize(\n",
        "    optimization_function,\n",
        "    dimensions = param_space,\n",
        "    n_calls = 15,  # Try 15 times, The higher the number of trials the better the chances of a better score\n",
        "    n_random_starts = 10,\n",
        "    verbose = 10)\n",
        "\n",
        "print(dict(zip(param_names,result.x)))"
      ],
      "execution_count": 31,
      "outputs": [
        {
          "output_type": "stream",
          "text": [
            "Iteration No: 1 started. Evaluating function at random point.\n",
            "Iteration No: 1 ended. Evaluation done at random point.\n",
            "Time taken: 2.4544\n",
            "Function value obtained: -0.9561\n",
            "Current minimum: -0.9561\n",
            "Iteration No: 2 started. Evaluating function at random point.\n",
            "Iteration No: 2 ended. Evaluation done at random point.\n",
            "Time taken: 8.6690\n",
            "Function value obtained: -0.9561\n",
            "Current minimum: -0.9561\n",
            "Iteration No: 3 started. Evaluating function at random point.\n",
            "Iteration No: 3 ended. Evaluation done at random point.\n",
            "Time taken: 10.7729\n",
            "Function value obtained: -0.9631\n",
            "Current minimum: -0.9631\n",
            "Iteration No: 4 started. Evaluating function at random point.\n",
            "Iteration No: 4 ended. Evaluation done at random point.\n",
            "Time taken: 3.8499\n",
            "Function value obtained: -0.9596\n",
            "Current minimum: -0.9631\n",
            "Iteration No: 5 started. Evaluating function at random point.\n",
            "Iteration No: 5 ended. Evaluation done at random point.\n",
            "Time taken: 1.5197\n",
            "Function value obtained: -0.9666\n",
            "Current minimum: -0.9666\n",
            "Iteration No: 6 started. Evaluating function at random point.\n",
            "Iteration No: 6 ended. Evaluation done at random point.\n",
            "Time taken: 2.4298\n",
            "Function value obtained: -0.9596\n",
            "Current minimum: -0.9666\n",
            "Iteration No: 7 started. Evaluating function at random point.\n",
            "Iteration No: 7 ended. Evaluation done at random point.\n",
            "Time taken: 4.7230\n",
            "Function value obtained: -0.9578\n",
            "Current minimum: -0.9666\n",
            "Iteration No: 8 started. Evaluating function at random point.\n",
            "Iteration No: 8 ended. Evaluation done at random point.\n",
            "Time taken: 4.8302\n",
            "Function value obtained: -0.9666\n",
            "Current minimum: -0.9666\n",
            "Iteration No: 9 started. Evaluating function at random point.\n",
            "Iteration No: 9 ended. Evaluation done at random point.\n",
            "Time taken: 9.9630\n",
            "Function value obtained: -0.9631\n",
            "Current minimum: -0.9666\n",
            "Iteration No: 10 started. Evaluating function at random point.\n",
            "Iteration No: 10 ended. Evaluation done at random point.\n",
            "Time taken: 12.1447\n",
            "Function value obtained: -0.9544\n",
            "Current minimum: -0.9666\n",
            "Iteration No: 11 started. Searching for the next optimal point.\n",
            "Iteration No: 11 ended. Search finished for the next optimal point.\n",
            "Time taken: 5.0931\n",
            "Function value obtained: -0.9578\n",
            "Current minimum: -0.9666\n",
            "Iteration No: 12 started. Searching for the next optimal point.\n",
            "Iteration No: 12 ended. Search finished for the next optimal point.\n",
            "Time taken: 4.7807\n",
            "Function value obtained: -0.9438\n",
            "Current minimum: -0.9666\n",
            "Iteration No: 13 started. Searching for the next optimal point.\n",
            "Iteration No: 13 ended. Search finished for the next optimal point.\n",
            "Time taken: 3.4921\n",
            "Function value obtained: -0.9631\n",
            "Current minimum: -0.9666\n",
            "Iteration No: 14 started. Searching for the next optimal point.\n",
            "Iteration No: 14 ended. Search finished for the next optimal point.\n",
            "Time taken: 1.1920\n",
            "Function value obtained: -0.9508\n",
            "Current minimum: -0.9666\n",
            "Iteration No: 15 started. Searching for the next optimal point.\n",
            "Iteration No: 15 ended. Search finished for the next optimal point.\n",
            "Time taken: 3.6980\n",
            "Function value obtained: -0.9543\n",
            "Current minimum: -0.9666\n",
            "{'max_depth': 7, 'n_estimators': 142, 'criterion': 'entropy', 'max_features': 0.1470504994431188}\n"
          ],
          "name": "stdout"
        }
      ]
    },
    {
      "cell_type": "markdown",
      "metadata": {
        "id": "gzZYbft4Gept",
        "colab_type": "text"
      },
      "source": [
        "### Hyperopt"
      ]
    },
    {
      "cell_type": "code",
      "metadata": {
        "id": "gzFI711Ujqqx",
        "colab_type": "code",
        "colab": {}
      },
      "source": [
        "from hyperopt import hp, fmin, tpe, Trials\n",
        "from hyperopt.pyll.base import scope"
      ],
      "execution_count": 32,
      "outputs": []
    },
    {
      "cell_type": "code",
      "metadata": {
        "id": "tSm2tWkyj1Kb",
        "colab_type": "code",
        "colab": {}
      },
      "source": [
        "def optimize(params, x, y):\n",
        "    # params = dict(zip(param_names, params))\n",
        "    model = ensemble.RandomForestClassifier(**params)\n",
        "    kf = model_selection.StratifiedKFold(n_splits= 5)\n",
        "    accuracies = []\n",
        "    for idx in kf.split(X = x, y = y):\n",
        "        train_idx, test_idx = idx[0], idx[1]\n",
        "        xtrain = x[train_idx]\n",
        "        ytrain = y[train_idx]\n",
        "        \n",
        "        xtest = x[test_idx]\n",
        "        ytest = y[test_idx]\n",
        "        \n",
        "        model.fit(xtrain, ytrain)\n",
        "        preds = model.predict(xtest)\n",
        "        fold_acc = metrics.accuracy_score(ytest, preds)\n",
        "        accuracies.append(fold_acc)\n",
        "        \n",
        "    return -1.0 * np.mean(accuracies)"
      ],
      "execution_count": 33,
      "outputs": []
    },
    {
      "cell_type": "code",
      "metadata": {
        "id": "jfnObhE0kJKj",
        "colab_type": "code",
        "colab": {}
      },
      "source": [
        "param_space = {\n",
        "    'max_depth': scope.int(hp.quniform('max_depth', 3, 15, 1)),\n",
        "    'n_estimators': scope.int(hp.quniform('n_estimators', 100, 600, 1)),\n",
        "    'criterion': hp.choice('criterion', ['gini', 'entropy']),\n",
        "     'max_features': hp.uniform('max_features', 0.01, 1)\n",
        "}"
      ],
      "execution_count": 34,
      "outputs": []
    },
    {
      "cell_type": "code",
      "metadata": {
        "id": "tCCaV7MRliLm",
        "colab_type": "code",
        "colab": {
          "base_uri": "https://localhost:8080/",
          "height": 51
        },
        "outputId": "f2848771-c3d7-4eab-bcd1-0469684488d3"
      },
      "source": [
        "optimization_function = partial(\n",
        "    optimize,\n",
        "    x = X,\n",
        "    y=y)\n",
        "\n",
        "trials = Trials()\n",
        "\n",
        "result = fmin(\n",
        "    fn = optimization_function,\n",
        "    space= param_space,\n",
        "    algo = tpe.suggest,\n",
        "    max_evals = 15,  # Try 15 times, The higher the number of trials the better the chances of a better score\n",
        "    trials = trials)\n",
        "\n",
        "print(result)"
      ],
      "execution_count": 35,
      "outputs": [
        {
          "output_type": "stream",
          "text": [
            "100%|██████████| 15/15 [00:59<00:00,  3.94s/it, best loss: -0.9683900015525537]\n",
            "{'criterion': 1, 'max_depth': 11.0, 'max_features': 0.7675116625583787, 'n_estimators': 254.0}\n"
          ],
          "name": "stdout"
        }
      ]
    },
    {
      "cell_type": "markdown",
      "metadata": {
        "id": "6haq5PN7GusS",
        "colab_type": "text"
      },
      "source": [
        "### Optuna"
      ]
    },
    {
      "cell_type": "code",
      "metadata": {
        "id": "SovEpe1fnu9_",
        "colab_type": "code",
        "colab": {}
      },
      "source": [
        "# pip install optuna"
      ],
      "execution_count": 36,
      "outputs": []
    },
    {
      "cell_type": "code",
      "metadata": {
        "id": "C9MSYv16uqvw",
        "colab_type": "code",
        "colab": {}
      },
      "source": [
        "import optuna"
      ],
      "execution_count": 37,
      "outputs": []
    },
    {
      "cell_type": "code",
      "metadata": {
        "id": "muazgpJfu82e",
        "colab_type": "code",
        "colab": {}
      },
      "source": [
        "def optimize(trial, x, y):\n",
        "    criterion = trial.suggest_categorical(\"criterion\", ['gini', 'entropy'])\n",
        "    n_estimators = trial.suggest_int('n_estimators', 100, 1500)\n",
        "    max_depth = trial.suggest_int('max_depth', 3 ,15)\n",
        "    max_features = trial.suggest_uniform('max_features', 0.01 , 1.0)\n",
        "\n",
        "    \n",
        "    # params = dict(zip(param_names, params))\n",
        "    model = ensemble.RandomForestClassifier(\n",
        "        n_estimators = n_estimators,\n",
        "        max_depth = max_depth,\n",
        "        criterion = criterion,\n",
        "        max_features = max_features\n",
        "    )\n",
        "    kf = model_selection.StratifiedKFold(n_splits= 5)\n",
        "    accuracies = []\n",
        "    for idx in kf.split(X = x, y = y):\n",
        "        train_idx, test_idx = idx[0], idx[1]\n",
        "        xtrain = x[train_idx]\n",
        "        ytrain = y[train_idx]\n",
        "        \n",
        "        xtest = x[test_idx]\n",
        "        ytest = y[test_idx]\n",
        "        \n",
        "        model.fit(xtrain, ytrain)\n",
        "        preds = model.predict(xtest)\n",
        "        fold_acc = metrics.accuracy_score(ytest, preds)\n",
        "        accuracies.append(fold_acc)\n",
        "        \n",
        "    return -1.0 * np.mean(accuracies)"
      ],
      "execution_count": 38,
      "outputs": []
    },
    {
      "cell_type": "code",
      "metadata": {
        "id": "9buHrfHjwuhk",
        "colab_type": "code",
        "colab": {
          "base_uri": "https://localhost:8080/",
          "height": 292
        },
        "outputId": "0aa3ecda-d417-40bc-8243-9a6d751e6b9d"
      },
      "source": [
        "optimization_function = partial(\n",
        "    optimize,\n",
        "    x = X,\n",
        "    y=y\n",
        ")\n",
        "\n",
        "\n",
        "study = optuna.create_study(direction = 'minimize')\n",
        "study.optimize(optimization_function, n_trials = 15)  # Try 15 times, The higher the number of trials the better the chances of a better score"
      ],
      "execution_count": 39,
      "outputs": [
        {
          "output_type": "stream",
          "text": [
            "[I 2020-08-15 13:08:18,232] Trial 0 finished with value: -0.9666200900481293 and parameters: {'criterion': 'entropy', 'n_estimators': 1307, 'max_depth': 9, 'max_features': 0.8229456489469515}. Best is trial 0 with value: -0.9666200900481293.\n",
            "[I 2020-08-15 13:08:25,938] Trial 1 finished with value: -0.9613724576929048 and parameters: {'criterion': 'gini', 'n_estimators': 544, 'max_depth': 12, 'max_features': 0.4514836841906695}. Best is trial 0 with value: -0.9666200900481293.\n",
            "[I 2020-08-15 13:08:37,271] Trial 2 finished with value: -0.9648657040832169 and parameters: {'criterion': 'entropy', 'n_estimators': 1048, 'max_depth': 9, 'max_features': 0.16168838831165075}. Best is trial 0 with value: -0.9666200900481293.\n",
            "[I 2020-08-15 13:08:46,565] Trial 3 finished with value: -0.9508150908244062 and parameters: {'criterion': 'gini', 'n_estimators': 1127, 'max_depth': 3, 'max_features': 0.15181765897525304}. Best is trial 0 with value: -0.9666200900481293.\n",
            "[I 2020-08-15 13:09:17,939] Trial 4 finished with value: -0.9596180717279925 and parameters: {'criterion': 'gini', 'n_estimators': 1476, 'max_depth': 9, 'max_features': 0.8520841372058092}. Best is trial 0 with value: -0.9666200900481293.\n",
            "[I 2020-08-15 13:09:27,502] Trial 5 finished with value: -0.9631113181183046 and parameters: {'criterion': 'gini', 'n_estimators': 1111, 'max_depth': 9, 'max_features': 0.1258347060800681}. Best is trial 0 with value: -0.9666200900481293.\n",
            "[I 2020-08-15 13:09:36,343] Trial 6 finished with value: -0.9666356155876418 and parameters: {'criterion': 'entropy', 'n_estimators': 386, 'max_depth': 7, 'max_features': 0.6326507425580405}. Best is trial 6 with value: -0.9666356155876418.\n",
            "[I 2020-08-15 13:10:00,199] Trial 7 finished with value: -0.9648812296227295 and parameters: {'criterion': 'entropy', 'n_estimators': 953, 'max_depth': 15, 'max_features': 0.7180049604810409}. Best is trial 6 with value: -0.9666356155876418.\n",
            "[I 2020-08-15 13:10:01,947] Trial 8 finished with value: -0.9648657040832168 and parameters: {'criterion': 'entropy', 'n_estimators': 111, 'max_depth': 14, 'max_features': 0.33741888450606655}. Best is trial 6 with value: -0.9666356155876418.\n",
            "[I 2020-08-15 13:10:16,773] Trial 9 finished with value: -0.9683900015525542 and parameters: {'criterion': 'entropy', 'n_estimators': 814, 'max_depth': 6, 'max_features': 0.456316534671325}. Best is trial 9 with value: -0.9683900015525542.\n",
            "[I 2020-08-15 13:10:26,440] Trial 10 finished with value: -0.9613414066138798 and parameters: {'criterion': 'entropy', 'n_estimators': 683, 'max_depth': 3, 'max_features': 0.3563834346161357}. Best is trial 9 with value: -0.9683900015525542.\n",
            "[I 2020-08-15 13:10:33,976] Trial 11 finished with value: -0.9648657040832169 and parameters: {'criterion': 'entropy', 'n_estimators': 318, 'max_depth': 6, 'max_features': 0.6532249891016058}. Best is trial 9 with value: -0.9683900015525542.\n",
            "[I 2020-08-15 13:10:43,520] Trial 12 finished with value: -0.9666356155876418 and parameters: {'criterion': 'entropy', 'n_estimators': 421, 'max_depth': 6, 'max_features': 0.6200590893026008}. Best is trial 9 with value: -0.9683900015525542.\n",
            "[I 2020-08-15 13:10:58,684] Trial 13 finished with value: -0.9683900015525542 and parameters: {'criterion': 'entropy', 'n_estimators': 758, 'max_depth': 6, 'max_features': 0.5137247478514773}. Best is trial 9 with value: -0.9683900015525542.\n",
            "[I 2020-08-15 13:11:14,230] Trial 14 finished with value: -0.9613724576929048 and parameters: {'criterion': 'entropy', 'n_estimators': 812, 'max_depth': 5, 'max_features': 0.47356994925344553}. Best is trial 9 with value: -0.9683900015525542.\n"
          ],
          "name": "stderr"
        }
      ]
    },
    {
      "cell_type": "code",
      "metadata": {
        "id": "MVbbkIUH0vhP",
        "colab_type": "code",
        "colab": {}
      },
      "source": [
        ""
      ],
      "execution_count": null,
      "outputs": []
    }
  ]
}